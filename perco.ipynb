{
 "cells": [
  {
   "cell_type": "code",
   "execution_count": 2,
   "metadata": {
    "scrolled": false
   },
   "outputs": [
    {
     "data": {
      "application/vnd.jupyter.widget-view+json": {
       "model_id": "257649d58bc34690925603a5a25634f8",
       "version_major": 2,
       "version_minor": 0
      },
      "text/plain": [
       "VBox(children=(Output(), Button(description='Next', style=ButtonStyle())))"
      ]
     },
     "metadata": {},
     "output_type": "display_data"
    }
   ],
   "source": [
    "%matplotlib inline\n",
    "import ipywidgets as widgets;\n",
    "import matplotlib.pyplot as plt;\n",
    "import numpy as np;\n",
    "import warnings;\n",
    "warnings.filterwarnings('ignore');\n",
    "import pylab as lp;from pylab import *;\n",
    "from scipy.ndimage import measurements;\n",
    "from IPython.display import display,clear_output;\n",
    "lp.rcParams['figure.figsize'] = (8, 8);\n",
    "from scipy.ndimage import measurements;\n",
    "from IPython.display import display,clear_output;\n",
    "plt.ioff();ax=plt.gca();N=100;cc=-0.01;dd=0;\n",
    "R = np.random.random((N,N));\n",
    "colors = ['red','black','white'];\n",
    "cmap = mpl.colors.ListedColormap(colors)\n",
    "out=widgets.Output();\n",
    "button=widgets.Button(description='Next');\n",
    "vbox=widgets.VBox(children=(out,button));\n",
    "display(vbox)\n",
    "def click(b):\n",
    "    global cc;    \n",
    "    cc +=0.02;    \n",
    "    B = np.where(R < cc, 1, 0);    \n",
    "    B1=logical_not(B)*1;    \n",
    "    lw, num = measurements.label(B);\n",
    "    w=np.max(lw);    \n",
    "    area = measurements.sum(B, lw, index=arange(lw.max() + 1));    \n",
    "    sB=B.sum();    w1=np.max(area);\n",
    "    ix=[i for i, x in enumerate(area) if x == w1];    \n",
    "    a = np.array(ix);    C = np.where(lw ==a[0], 1, 0);    \n",
    "    C1 = logical_not(C)*1;\n",
    "    D=B1+C1;    ama = logical_not(D)*1;    \n",
    "    sama=ama.sum();    \n",
    "    p=sB/(N*N); \n",
    "    im = ax.imshow(D, cmap=cmap, interpolation='nearest');\n",
    "    with out:\n",
    "        clear_output(wait=True);        \n",
    "        display(ax.figure);                \n",
    "        print(\"p= \",p, \"c= \",sB,\"LC= \",sama,\" Author: S.Boutiche\")\n",
    "button.on_click(click)\n",
    "click(None)"
   ]
  },
  {
   "cell_type": "code",
   "execution_count": null,
   "metadata": {},
   "outputs": [],
   "source": []
  }
 ],
 "metadata": {
  "kernelspec": {
   "display_name": "Python 3",
   "language": "python",
   "name": "python3"
  },
  "language_info": {
   "codemirror_mode": {
    "name": "ipython",
    "version": 3
   },
   "file_extension": ".py",
   "mimetype": "text/x-python",
   "name": "python",
   "nbconvert_exporter": "python",
   "pygments_lexer": "ipython3",
   "version": "3.7.2"
  }
 },
 "nbformat": 4,
 "nbformat_minor": 2
}
