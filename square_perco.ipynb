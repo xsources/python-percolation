{
 "cells": [
  {
   "cell_type": "code",
   "execution_count": 49,
   "metadata": {},
   "outputs": [
    {
     "data": {
      "application/vnd.jupyter.widget-view+json": {
       "model_id": "af11571c75c84899b3299b96ae05e285",
       "version_major": 2,
       "version_minor": 0
      },
      "text/plain": [
       "interactive(children=(IntSlider(value=20, description='Size(NxN) N=', max=510, min=10, step=10), Output()), _d…"
      ]
     },
     "metadata": {},
     "output_type": "display_data"
    }
   ],
   "source": [
    "#Author: Said Boutiche email:myelearningzatgmail\n",
    "from ipywidgets import interact, interactive, fixed, interact_manual\n",
    "import ipywidgets as widgets\n",
    "from IPython.display import display\n",
    "import numpy as np;\n",
    "import matplotlib.pyplot as plt;\n",
    "import matplotlib as mpl;\n",
    "from IPython.display import display\n",
    "from scipy.ndimage import measurements;\n",
    "\n",
    "colors = ['white',[.8,.8,.8],'black'];\n",
    "cmap = mpl.colors.ListedColormap(colors)\n",
    "mpl.rcParams['figure.figsize'] = (6,6)\n",
    "\n",
    "def size(N=10):\n",
    "    R = np.random.random((N,N));\n",
    "\n",
    "    def plot(c=(0,N*N)):\n",
    "        #R = np.random.random((N,N));\n",
    "        ax=plt.gca();\n",
    "        \n",
    "        \n",
    "        B = np.where(R < c/(N*N), 1, 0);  \n",
    "        lw, num = measurements.label(B);\n",
    "        area = measurements.sum(B, lw, index=np.arange(lw.max() + 1));    \n",
    "        sB=B.sum();    \n",
    "        lcp=np.max(area);\n",
    "        ix=[i for i, x in enumerate(area) if x == lcp];    \n",
    "        xa = np.array(ix);    \n",
    "        C = np.where(lw ==xa[0], 1, 0);    \n",
    "        D=B+C;    \n",
    "        p=sB/(N*N); \n",
    "        im = ax.imshow(D, cmap);\n",
    "        ##uncomment next line to display parameters\n",
    "        #print(\"p= \",p, \"c= \",sB,\"LC= \",int(lcp))\n",
    "  \n",
    "    interact(plot,c=widgets.IntSlider(min=10,max=N*N,step=1,value=10,description='Concentr.='));\n",
    "interact(size,N=widgets.IntSlider(min=10,max=510,step=10,value=20,description='Size(NxN) N='));"
   ]
  }
 ],
 "metadata": {
  "kernelspec": {
   "display_name": "Python 3",
   "language": "python",
   "name": "python3"
  },
  "language_info": {
   "codemirror_mode": {
    "name": "ipython",
    "version": 3
   },
   "file_extension": ".py",
   "mimetype": "text/x-python",
   "name": "python",
   "nbconvert_exporter": "python",
   "pygments_lexer": "ipython3",
   "version": "3.7.2"
  }
 },
 "nbformat": 4,
 "nbformat_minor": 2
}
