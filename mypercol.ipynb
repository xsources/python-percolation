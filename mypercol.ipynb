{
 "cells": [
  {
   "cell_type": "code",
   "execution_count": 74,
   "metadata": {},
   "outputs": [
    {
     "data": {
      "application/vnd.jupyter.widget-view+json": {
       "model_id": "a51d2093311640219ac2dc08c4c1fd17",
       "version_major": 2,
       "version_minor": 0
      },
      "text/plain": [
       "interactive(children=(IntSlider(value=50, description='c'), IntSlider(value=10, description='Size (N):', max=1…"
      ]
     },
     "metadata": {},
     "output_type": "display_data"
    }
   ],
   "source": [
    "from ipywidgets import interact, interactive, fixed, interact_manual\n",
    "import ipywidgets as widgets\n",
    "from IPython.display import display\n",
    "import numpy as np;\n",
    "import matplotlib.pyplot as plt;\n",
    "import matplotlib as mpl;\n",
    "from IPython.display import display\n",
    "from scipy.ndimage import measurements;\n",
    "import pylab as lp;\n",
    "from pylab import *;\n",
    "\n",
    "\n",
    "N=10\n",
    "colors = ['white',[1,1, 0.0],'black'];\n",
    "cmap = mpl.colors.ListedColormap(colors)\n",
    "mpl.rcParams['figure.figsize'] = (8,8)\n",
    "\n",
    "out=widgets.Output();\n",
    "def plot(c=(0,N*N),N=10):\n",
    "    R = np.random.random((N,N));\n",
    "    ax=plt.gca();\n",
    "    B = np.where(R < c/100, 1, 0);  \n",
    "    lw, num = measurements.label(B);\n",
    "    #w=np.max(lw);    \n",
    "    area = measurements.sum(B, lw, index=np.arange(lw.max() + 1));    \n",
    "    sB=B.sum();    lcp=np.max(area);\n",
    "    ix=[i for i, x in enumerate(area) if x == lcp];    \n",
    "    xa = np.array(ix);    \n",
    "    C = np.where(lw ==xa[0], 1, 0);  \n",
    "    \n",
    "    p=sB/(N*N); \n",
    "    D=B+C;    ama = D;    \n",
    "    sama=ama.sum();    \n",
    "    im = ax.imshow(D, cmap);\n",
    "    #lp.xlabel('this is x!')\n",
    "    lp.title(\"(Author: S. Boutiche)\", x=-0.1, y=-0.1)\n",
    "    #lp.xlabel('this is x!')\n",
    "    print(\"p= \",str(p));\n",
    "    print(\"Larg. Comp.= \",C.sum());\n",
    "    print(\"Concentr.= \",sB);\n",
    "    return\n",
    "\n",
    "\n",
    "\n",
    "    #return\n",
    "    #ax.grid(grid)\n",
    "    #display(B)\n",
    "   \n",
    "interact(plot,N=widgets.IntSlider(min=10,max=1010,step=100,value=10,\n",
    "                                  description='Size (N):',));\n"
   ]
  },
  {
   "cell_type": "code",
   "execution_count": null,
   "metadata": {},
   "outputs": [],
   "source": []
  }
 ],
 "metadata": {
  "kernelspec": {
   "display_name": "Python 3",
   "language": "python",
   "name": "python3"
  },
  "language_info": {
   "codemirror_mode": {
    "name": "ipython",
    "version": 3
   },
   "file_extension": ".py",
   "mimetype": "text/x-python",
   "name": "python",
   "nbconvert_exporter": "python",
   "pygments_lexer": "ipython3",
   "version": "3.7.2"
  }
 },
 "nbformat": 4,
 "nbformat_minor": 2
}
