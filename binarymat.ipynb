{
 "cells": [
  {
   "cell_type": "code",
   "execution_count": 3,
   "metadata": {},
   "outputs": [
    {
     "data": {
      "application/vnd.jupyter.widget-view+json": {
       "model_id": "d410d00f037240a58ae5c4cfbd5b0b44",
       "version_major": 2,
       "version_minor": 0
      },
      "text/plain": [
       "interactive(children=(IntSlider(value=50, description='v'), IntSlider(value=10, description='N', min=10, step=…"
      ]
     },
     "metadata": {},
     "output_type": "display_data"
    }
   ],
   "source": [
    "from ipywidgets import interact, interactive, fixed, interact_manual\n",
    "import ipywidgets as widgets\n",
    "from IPython.display import display\n",
    "import numpy as np;\n",
    "import matplotlib.pyplot as plt;\n",
    "import matplotlib as mpl;\n",
    "\n",
    "\n",
    "\n",
    "N=10;\n",
    "colors = ['white',[1,1, 0.0],'black'];\n",
    "cmap = mpl.colors.ListedColormap(colors)\n",
    "\n",
    "\n",
    "out=widgets.Output();\n",
    "def f(v=(0,N*N),N=10):\n",
    "    R = np.random.random((N,N));\n",
    "    ax=plt.gca();\n",
    "    B = np.where(R < v/100, 1, 0);  \n",
    "    im = ax.imshow(B, cmap);\n",
    "    return\n",
    "    #ax.grid(grid)\n",
    "    #display(B)\n",
    "   \n",
    "interact(f,N=widgets.IntSlider(min=10,max=100,step=10,value=10));\n"
   ]
  },
  {
   "cell_type": "code",
   "execution_count": null,
   "metadata": {},
   "outputs": [],
   "source": []
  }
 ],
 "metadata": {
  "kernelspec": {
   "display_name": "Python 3",
   "language": "python",
   "name": "python3"
  },
  "language_info": {
   "codemirror_mode": {
    "name": "ipython",
    "version": 3
   },
   "file_extension": ".py",
   "mimetype": "text/x-python",
   "name": "python",
   "nbconvert_exporter": "python",
   "pygments_lexer": "ipython3",
   "version": "3.7.2"
  }
 },
 "nbformat": 4,
 "nbformat_minor": 2
}
